{
  "nbformat": 4,
  "nbformat_minor": 0,
  "metadata": {
    "colab": {
      "provenance": [],
      "authorship_tag": "ABX9TyOyBKOotndNk+odUq64RDA9",
      "include_colab_link": true
    },
    "kernelspec": {
      "name": "python3",
      "display_name": "Python 3"
    },
    "language_info": {
      "name": "python"
    }
  },
  "cells": [
    {
      "cell_type": "markdown",
      "metadata": {
        "id": "view-in-github",
        "colab_type": "text"
      },
      "source": [
        "<a href=\"https://colab.research.google.com/github/fr4nc35c0/fr4nc35c0/blob/main/PySolver.ipynb\" target=\"_parent\"><img src=\"https://colab.research.google.com/assets/colab-badge.svg\" alt=\"Open In Colab\"/></a>"
      ]
    },
    {
      "cell_type": "code",
      "source": [
        "!python main.py"
      ],
      "metadata": {
        "colab": {
          "base_uri": "https://localhost:8080/"
        },
        "id": "Q7yXam9jZx0M",
        "outputId": "f7852a43-713b-4c91-c953-9b1370e4016e"
      },
      "execution_count": 19,
      "outputs": [
        {
          "output_type": "stream",
          "name": "stdout",
          "text": [
            "[INFO   ] [Logger      ] Record log in /root/.kivy/logs/kivy_22-12-07_1.txt\n",
            "[INFO   ] [Kivy        ] v2.1.0\n",
            "[INFO   ] [Kivy        ] Installed at \"/usr/local/lib/python3.8/dist-packages/kivy/__init__.py\"\n",
            "[INFO   ] [Python      ] v3.8.15 (default, Oct 12 2022, 19:14:39) \n",
            "[GCC 7.5.0]\n",
            "[INFO   ] [Python      ] Interpreter at \"/usr/bin/python3\"\n",
            "[INFO   ] [Logger      ] Purge log fired. Processing...\n",
            "[INFO   ] [Logger      ] Purge finished!\n",
            "[INFO   ] [KivyMD      ] 1.1.1, git-Unknown, 2022-12-07 (installed at \"/usr/local/lib/python3.8/dist-packages/kivymd/__init__.py\")\n",
            "[INFO   ] [Factory     ] 189 symbols loaded\n",
            "[INFO   ] [Image       ] Providers: img_tex, img_dds, img_sdl2, img_pil (img_ffpyplayer ignored)\n",
            "[INFO   ] [Text        ] Provider: sdl2\n",
            "[INFO   ] [Window      ] Provider: sdl2\n",
            "[INFO   ] [Window      ] Provider: x11(['window_sdl2'] ignored)\n",
            "Couldn't connect to X server\n"
          ]
        }
      ]
    }
  ]
}